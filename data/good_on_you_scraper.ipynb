{
 "metadata": {
  "language_info": {
   "codemirror_mode": {
    "name": "ipython",
    "version": 3
   },
   "file_extension": ".py",
   "mimetype": "text/x-python",
   "name": "python",
   "nbconvert_exporter": "python",
   "pygments_lexer": "ipython3",
   "version": "3.7.4"
  },
  "orig_nbformat": 2,
  "kernelspec": {
   "name": "python374jvsc74a57bd0d46759998a75493532841deeff85cbd3720d9a7b327f2d9b36703a2010637251",
   "display_name": "Python 3.7.4 64-bit ('base': conda)"
  }
 },
 "nbformat": 4,
 "nbformat_minor": 2,
 "cells": [
  {
   "cell_type": "code",
   "execution_count": 163,
   "metadata": {},
   "outputs": [],
   "source": [
    "import requests\n",
    "from bs4 import BeautifulSoup\n",
    "import pandas\n",
    "from selenium import webdriver\n",
    "import time\n"
   ]
  },
  {
   "cell_type": "code",
   "execution_count": 164,
   "metadata": {},
   "outputs": [],
   "source": [
    "options = webdriver.ChromeOptions()\n",
    "options.add_argument('--ignore-certificate-errors')\n",
    "options.add_argument('--incognito')\n",
    "options.add_argument('--headless')\n",
    "driver = webdriver.Chrome(os.path.join(sys.path[0], \"chromedriver\"), options=options)\n"
   ]
  },
  {
   "cell_type": "code",
   "execution_count": 176,
   "metadata": {},
   "outputs": [],
   "source": [
    "# constants here\n",
    "CATEGORIES = ['activewear', 'tops', 'bottoms', 'denim', 'dresses', 'knitwear', 'outerwear', 'suits', 'basics', 'sleepwear', 'swimwear', 'maternity', 'plus-size', 'shoes', 'bags', 'accessories']\n",
    "\n",
    "CATEGORY_ROOT_URL = 'https://directory.goodonyou.eco/categories/'\n",
    "\n",
    "BRAND_ROOT_URL = 'https://directory.goodonyou.eco'"
   ]
  },
  {
   "cell_type": "code",
   "execution_count": 177,
   "metadata": {},
   "outputs": [],
   "source": [
    "# brand page specifics\n",
    "# maps field name to ['div type', 'class name'], #example text\n",
    "BRAND_SCRAPING_MAP = {\n",
    "    'name': ['h1', 'sc-kjoXOD hxRXn StyledHeading-sc-1rdh4aw-0 iadRcX'], # 'Article 22'\n",
    "    'rating': ['span', 'StyledText-sc-1sadyjn-0 bBUTWf'], # 'Rated: Good'\n",
    "    'price': ['span', 'StyledText-sc-1sadyjn-0 bBUTWf'], # 'Price : $$'\n",
    "    'location': ['span', 'StyledText-sc-1sadyjn-0 bBUTWf'], # 'Location: Australia'\n",
    "    'planet': ['span', 'StyledText-sc-1sadyjn-0 bVvIwM'], # '5 out of 5'\n",
    "    'people': ['span', 'StyledText-sc-1sadyjn-0 bVvIwM'], # '4 out of 5', 'Not applicable'\n",
    "    'animals': ['span', 'StyledText-sc-1sadyjn-0 bVvIwM'], # same as above\n",
    "    'description': ['div', 'sc-kgAjT kqcGSN'], # all text comes in chunks of <p>'s\n",
    "}"
   ]
  },
  {
   "cell_type": "code",
   "execution_count": 178,
   "metadata": {},
   "outputs": [],
   "source": [
    "# if a store has already been scraped, just add the category to this map and do not \"rescrape\" to save time\n",
    "# we assume there is only one unique page per brand\n",
    "\n",
    "STORE_CATEGORY_MAP = {}"
   ]
  },
  {
   "cell_type": "code",
   "execution_count": 179,
   "metadata": {},
   "outputs": [],
   "source": [
    "def scroll(driver, timeout=2):\n",
    "    scroll_pause_time = timeout\n",
    "\n",
    "    # Get scroll height\n",
    "    last_height = driver.execute_script(\"return document.body.scrollHeight\")\n",
    "\n",
    "    while True:\n",
    "        # Scroll down to bottom\n",
    "        driver.execute_script(\"window.scrollTo(0, document.body.scrollHeight);\")\n",
    "\n",
    "        # Wait to load page\n",
    "        time.sleep(scroll_pause_time)\n",
    "\n",
    "        # Calculate new scroll height and compare with last scroll height\n",
    "        new_height = driver.execute_script(\"return document.body.scrollHeight\")\n",
    "        if new_height == last_height:\n",
    "            # If heights are the same it will exit the function\n",
    "            break\n",
    "        last_height = new_height\n",
    "\n",
    "# first scrape all of the brand names\n",
    "def scrape_brand_names():\n",
    "    for c in CATEGORIES:\n",
    "        category_url = CATEGORY_ROOT_URL + c\n",
    "        print(category_url)\n",
    "\n",
    "        driver.get(category_url)\n",
    "\n",
    "        scroll(driver)\n",
    "\n",
    "        page = driver.page_source\n",
    "\n",
    "        soup = BeautifulSoup(page, \"html.parser\")\n",
    "\n",
    "        for card in soup.find_all('div', attrs={'class': 'sc-ksYbfQ gBVJBH'}):\n",
    "            brand_suffix = card.find('div').find('a')['href']\n",
    "            brand_link = BRAND_ROOT_URL + brand_suffix\n",
    "\n",
    "            # add category to that brand\n",
    "            if brand_link in STORE_CATEGORY_MAP:\n",
    "                STORE_CATEGORY_MAP[brand_link].append(c)\n",
    "            else:\n",
    "                STORE_CATEGORY_MAP[brand_link] = [c,]\n",
    "\n"
   ]
  },
  {
   "cell_type": "code",
   "execution_count": 180,
   "metadata": {
    "tags": [
     "outputPrepend"
    ]
   },
   "outputs": [
    {
     "output_type": "stream",
     "name": "stdout",
     "text": [
      ".goodonyou.eco/brand/liewood': ['knitwear', 'swimwear', 'shoes', 'bags'], 'https://directory.goodonyou.eco/brand/jennifer-fisher': ['knitwear'], 'https://directory.goodonyou.eco/brand/f-wd': ['knitwear', 'shoes'], 'https://directory.goodonyou.eco/brand/arch-4': ['knitwear'], 'https://directory.goodonyou.eco/brand/gloria-coelho': ['knitwear'], 'https://directory.goodonyou.eco/brand/fay': ['knitwear'], 'https://directory.goodonyou.eco/brand/mackintosh': ['knitwear', 'suits'], 'https://directory.goodonyou.eco/brand/361-degrees': ['knitwear', 'shoes'], 'https://directory.goodonyou.eco/brand/lanidor': ['knitwear'], 'https://directory.goodonyou.eco/brand/ai-riders': ['knitwear'], 'https://directory.goodonyou.eco/brand/fillity': ['knitwear'], 'https://directory.goodonyou.eco/brand/mcm': ['knitwear', 'shoes', 'bags'], 'https://directory.goodonyou.eco/brand/soia-and-kyo': ['knitwear'], 'https://directory.goodonyou.eco/brand/ash': ['knitwear', 'shoes'], 'https://directory.goodonyou.eco/brand/the-blue-suit': ['suits'], 'https://directory.goodonyou.eco/brand/contessa-volpi': ['suits', 'swimwear'], 'https://directory.goodonyou.eco/brand/raen': ['suits', 'plus-size'], 'https://directory.goodonyou.eco/brand/geox': ['suits', 'shoes'], 'https://directory.goodonyou.eco/brand/the-madison-collection': ['sleepwear'], 'https://directory.goodonyou.eco/brand/wacoal': ['sleepwear'], 'https://directory.goodonyou.eco/brand/victorias-secret': ['sleepwear'], 'https://directory.goodonyou.eco/brand/peter-alexander': ['sleepwear', 'shoes'], 'https://directory.goodonyou.eco/brand/la-perla': ['sleepwear', 'swimwear'], 'https://directory.goodonyou.eco/brand/maison-close': ['sleepwear'], 'https://directory.goodonyou.eco/brand/laurence-tavernier': ['sleepwear'], 'https://directory.goodonyou.eco/brand/joe-boxer': ['sleepwear'], 'https://directory.goodonyou.eco/brand/s-a-y-a': ['swimwear'], 'https://directory.goodonyou.eco/brand/allsisters': ['swimwear'], 'https://directory.goodonyou.eco/brand/kent': ['swimwear', 'plus-size'], 'https://directory.goodonyou.eco/brand/knickey': ['swimwear', 'bags'], 'https://directory.goodonyou.eco/brand/batoko': ['swimwear'], 'https://directory.goodonyou.eco/brand/la-fille-do': ['swimwear'], 'https://directory.goodonyou.eco/brand/colieco': ['swimwear'], 'https://directory.goodonyou.eco/brand/underprotection': ['swimwear', 'maternity'], 'https://directory.goodonyou.eco/brand/bower': ['swimwear'], 'https://directory.goodonyou.eco/brand/conscious-the-label': ['swimwear'], 'https://directory.goodonyou.eco/brand/sian-swimwear': ['swimwear'], 'https://directory.goodonyou.eco/brand/donatella-fabio-beachwear': ['swimwear'], 'https://directory.goodonyou.eco/brand/sol-y-oro': ['swimwear'], 'https://directory.goodonyou.eco/brand/prima-donna': ['swimwear'], 'https://directory.goodonyou.eco/brand/tara-matthews': ['swimwear'], 'https://directory.goodonyou.eco/brand/drivemebikini': ['swimwear'], 'https://directory.goodonyou.eco/brand/happy-socks': ['swimwear'], 'https://directory.goodonyou.eco/brand/slazenger': ['swimwear', 'shoes', 'bags'], 'https://directory.goodonyou.eco/brand/speedo': ['swimwear'], 'https://directory.goodonyou.eco/brand/castamira': ['swimwear', 'plus-size'], 'https://directory.goodonyou.eco/brand/barts': ['swimwear'], 'https://directory.goodonyou.eco/brand/calzedonia': ['swimwear', 'maternity'], 'https://directory.goodonyou.eco/brand/fantasie': ['swimwear'], 'https://directory.goodonyou.eco/brand/miska-paris': ['swimwear'], 'https://directory.goodonyou.eco/brand/marie-jo': ['swimwear'], 'https://directory.goodonyou.eco/brand/iamgia': ['swimwear', 'bags'], 'https://directory.goodonyou.eco/brand/cuup': ['swimwear', 'bags'], 'https://directory.goodonyou.eco/brand/rapport': ['swimwear', 'bags'], 'https://directory.goodonyou.eco/brand/cupshe': ['swimwear'], 'https://directory.goodonyou.eco/brand/vigga': ['maternity'], 'https://directory.goodonyou.eco/brand/circos': ['maternity'], 'https://directory.goodonyou.eco/brand/dorothy-perkins': ['maternity'], 'https://directory.goodonyou.eco/brand/tk-maxx': ['maternity'], 'https://directory.goodonyou.eco/brand/green-things': ['maternity'], 'https://directory.goodonyou.eco/brand/norden': ['plus-size'], 'https://directory.goodonyou.eco/brand/shola-branson': ['plus-size'], 'https://directory.goodonyou.eco/brand/parade': ['plus-size'], 'https://directory.goodonyou.eco/brand/noize': ['plus-size'], 'https://directory.goodonyou.eco/brand/nialaya': ['plus-size'], 'https://directory.goodonyou.eco/brand/camper': ['plus-size', 'shoes'], 'https://directory.goodonyou.eco/brand/vesica-piscis': ['shoes'], 'https://directory.goodonyou.eco/brand/flamingos-life': ['shoes'], 'https://directory.goodonyou.eco/brand/rothys': ['shoes'], 'https://directory.goodonyou.eco/brand/nae': ['shoes', 'bags'], 'https://directory.goodonyou.eco/brand/aera': ['shoes'], 'https://directory.goodonyou.eco/brand/rafa': ['shoes'], 'https://directory.goodonyou.eco/brand/rvdk': ['shoes'], 'https://directory.goodonyou.eco/brand/veja': ['shoes'], 'https://directory.goodonyou.eco/brand/clamp': ['shoes'], 'https://directory.goodonyou.eco/brand/allbirds': ['shoes'], 'https://directory.goodonyou.eco/brand/beyond-skin': ['shoes'], 'https://directory.goodonyou.eco/brand/noah': ['shoes'], 'https://directory.goodonyou.eco/brand/po-zu': ['shoes', 'bags'], 'https://directory.goodonyou.eco/brand/nisolo': ['shoes', 'bags'], 'https://directory.goodonyou.eco/brand/bionda-castana': ['shoes'], 'https://directory.goodonyou.eco/brand/saye': ['shoes'], 'https://directory.goodonyou.eco/brand/deux-mains': ['shoes', 'bags'], 'https://directory.goodonyou.eco/brand/bourgeois-boheme': ['shoes'], 'https://directory.goodonyou.eco/brand/solerebels': ['shoes'], 'https://directory.goodonyou.eco/brand/veerah': ['shoes', 'bags'], 'https://directory.goodonyou.eco/brand/lunge': ['shoes'], 'https://directory.goodonyou.eco/brand/cariuma': ['shoes'], 'https://directory.goodonyou.eco/brand/kayu': ['shoes', 'bags'], 'https://directory.goodonyou.eco/brand/womsh': ['shoes'], 'https://directory.goodonyou.eco/brand/coclico': ['shoes'], 'https://directory.goodonyou.eco/brand/minuit-sur-terre': ['shoes', 'bags'], 'https://directory.goodonyou.eco/brand/ichcha': ['shoes'], 'https://directory.goodonyou.eco/brand/brother-vellies': ['shoes', 'bags'], 'https://directory.goodonyou.eco/brand/studio-pia': ['shoes'], 'https://directory.goodonyou.eco/brand/poppy-barley': ['shoes', 'bags'], 'https://directory.goodonyou.eco/brand/kering-eyewear': ['shoes'], 'https://directory.goodonyou.eco/brand/sarah-flint': ['shoes'], 'https://directory.goodonyou.eco/brand/gucci': ['shoes', 'bags'], 'https://directory.goodonyou.eco/brand/good-news': ['shoes'], 'https://directory.goodonyou.eco/brand/zou-xou': ['shoes'], 'https://directory.goodonyou.eco/brand/teva': ['shoes'], 'https://directory.goodonyou.eco/brand/darzah': ['shoes', 'bags'], 'https://directory.goodonyou.eco/brand/the-root-collective': ['shoes'], 'https://directory.goodonyou.eco/brand/ancient-greek-sandals': ['shoes'], 'https://directory.goodonyou.eco/brand/bottega-veneta': ['shoes', 'bags'], 'https://directory.goodonyou.eco/brand/ugg': ['shoes'], 'https://directory.goodonyou.eco/brand/thousand-fell': ['shoes'], 'https://directory.goodonyou.eco/brand/converse': ['shoes'], 'https://directory.goodonyou.eco/brand/panafrica': ['shoes'], 'https://directory.goodonyou.eco/brand/spurr': ['shoes'], 'https://directory.goodonyou.eco/brand/merry-people': ['shoes'], 'https://directory.goodonyou.eco/brand/bhava': ['shoes'], 'https://directory.goodonyou.eco/brand/penelope-chilvers': ['shoes'], 'https://directory.goodonyou.eco/brand/koio': ['shoes'], 'https://directory.goodonyou.eco/brand/hylo-athletics': ['shoes'], 'https://directory.goodonyou.eco/brand/vagabond': ['shoes', 'bags'], 'https://directory.goodonyou.eco/brand/bared-footwear': ['shoes'], 'https://directory.goodonyou.eco/brand/tropic-feel': ['shoes', 'bags'], 'https://directory.goodonyou.eco/brand/rombaut': ['shoes'], 'https://directory.goodonyou.eco/brand/hestia': ['shoes', 'bags'], 'https://directory.goodonyou.eco/brand/kavat': ['shoes'], 'https://directory.goodonyou.eco/brand/saint-laurent': ['shoes', 'bags'], 'https://directory.goodonyou.eco/brand/feller': ['shoes'], 'https://directory.goodonyou.eco/brand/alpina': ['shoes'], 'https://directory.goodonyou.eco/brand/by-far': ['shoes'], 'https://directory.goodonyou.eco/brand/francesco-russo': ['shoes'], 'https://directory.goodonyou.eco/brand/atp-atelier': ['shoes', 'bags'], 'https://directory.goodonyou.eco/brand/guidi': ['shoes'], 'https://directory.goodonyou.eco/brand/officine-creative': ['shoes', 'bags'], 'https://directory.goodonyou.eco/brand/malone-souliers': ['shoes'], 'https://directory.goodonyou.eco/brand/le-silla': ['shoes'], 'https://directory.goodonyou.eco/brand/melissa': ['shoes', 'bags'], 'https://directory.goodonyou.eco/brand/vor': ['shoes'], 'https://directory.goodonyou.eco/brand/swear': ['shoes'], 'https://directory.goodonyou.eco/brand/tamara-mellon': ['shoes'], 'https://directory.goodonyou.eco/brand/hideandjack': ['shoes'], 'https://directory.goodonyou.eco/brand/philippe-model': ['shoes', 'bags'], 'https://directory.goodonyou.eco/brand/matt-and-nat': ['shoes', 'bags'], 'https://directory.goodonyou.eco/brand/santoni': ['shoes', 'bags'], 'https://directory.goodonyou.eco/brand/panama-jack': ['shoes'], 'https://directory.goodonyou.eco/brand/amina-muaddi': ['shoes'], 'https://directory.goodonyou.eco/brand/joshua-sanders': ['shoes'], 'https://directory.goodonyou.eco/brand/clarks': ['shoes'], 'https://directory.goodonyou.eco/brand/giannico': ['shoes'], 'https://directory.goodonyou.eco/brand/robert-clergerie': ['shoes'], 'https://directory.goodonyou.eco/brand/anita-ko': ['shoes'], 'https://directory.goodonyou.eco/brand/ipanema': ['shoes'], 'https://directory.goodonyou.eco/brand/rene-caovilla': ['shoes', 'bags'], 'https://directory.goodonyou.eco/brand/nodaleto': ['shoes'], 'https://directory.goodonyou.eco/brand/les-petits-joueurs': ['shoes', 'bags'], 'https://directory.goodonyou.eco/brand/marsell': ['shoes', 'bags'], 'https://directory.goodonyou.eco/brand/common-projects': ['shoes', 'bags'], 'https://directory.goodonyou.eco/brand/tabitha-simmons': ['shoes'], 'https://directory.goodonyou.eco/brand/manolo-blahnik': ['shoes'], 'https://directory.goodonyou.eco/brand/marco-de-vincenzo': ['shoes'], 'https://directory.goodonyou.eco/brand/sergio-rossi': ['shoes'], 'https://directory.goodonyou.eco/brand/office': ['shoes'], 'https://directory.goodonyou.eco/brand/kickers': ['shoes'], 'https://directory.goodonyou.eco/brand/roger-vivier': ['shoes', 'bags'], 'https://directory.goodonyou.eco/brand/sarah-chofakian': ['shoes', 'bags'], 'https://directory.goodonyou.eco/brand/tretorn': ['shoes'], 'https://directory.goodonyou.eco/brand/toms': ['shoes'], 'https://directory.goodonyou.eco/brand/kustom': ['shoes'], 'https://directory.goodonyou.eco/brand/casadei': ['shoes'], 'https://directory.goodonyou.eco/brand/paul-andrew': ['shoes'], 'https://directory.goodonyou.eco/brand/tyler-ellis': ['shoes', 'bags'], 'https://directory.goodonyou.eco/brand/osborn': ['shoes'], 'https://directory.goodonyou.eco/brand/church': ['shoes'], 'https://directory.goodonyou.eco/brand/mr-and-mrs-italy': ['shoes'], 'https://directory.goodonyou.eco/brand/baldinini': ['shoes', 'bags'], 'https://directory.goodonyou.eco/brand/wittner': ['shoes', 'bags'], 'https://directory.goodonyou.eco/brand/nicholas-kirkwood': ['shoes'], 'https://directory.goodonyou.eco/brand/dr-martens': ['shoes'], 'https://directory.goodonyou.eco/brand/cosmoparis': ['shoes'], 'https://directory.goodonyou.eco/brand/pierre-hardy': ['shoes', 'bags'], 'https://directory.goodonyou.eco/brand/blue-bird': ['shoes'], 'https://directory.goodonyou.eco/brand/cole-haan': ['shoes', 'bags'], 'https://directory.goodonyou.eco/brand/birkenstock': ['shoes'], 'https://directory.goodonyou.eco/brand/carshoe': ['shoes'], 'https://directory.goodonyou.eco/brand/charles-and-keith': ['shoes', 'bags'], 'https://directory.goodonyou.eco/brand/premiata': ['shoes', 'bags'], 'https://directory.goodonyou.eco/brand/charlotte-olympia': ['shoes', 'bags'], 'https://directory.goodonyou.eco/brand/superga': ['shoes', 'bags'], 'https://directory.goodonyou.eco/brand/steve-madden': ['shoes', 'bags'], 'https://directory.goodonyou.eco/brand/diana-ferrari': ['shoes', 'bags'], 'https://directory.goodonyou.eco/brand/tods': ['shoes', 'bags'], 'https://directory.goodonyou.eco/brand/carolina-herrera': ['shoes'], 'https://directory.goodonyou.eco/brand/grosby': ['shoes'], 'https://directory.goodonyou.eco/brand/giuseppe-zanotti': ['shoes', 'bags'], 'https://directory.goodonyou.eco/brand/six-london': ['shoes'], 'https://directory.goodonyou.eco/brand/valentino': ['shoes', 'bags'], 'https://directory.goodonyou.eco/brand/jimmy-choo': ['shoes', 'bags'], 'https://directory.goodonyou.eco/brand/louboutin': ['shoes', 'bags'], 'https://directory.goodonyou.eco/brand/airwalk': ['shoes'], 'https://directory.goodonyou.eco/brand/tata-italia': ['shoes', 'bags'], 'https://directory.goodonyou.eco/brand/pura-lopez': ['shoes'], 'https://directory.goodonyou.eco/brand/les-tropeziennes-par-m-belarbi': ['shoes'], 'https://directory.goodonyou.eco/brand/brenda-zaro': ['shoes'], 'https://directory.goodonyou.eco/brand/osoi': ['shoes'], 'https://directory.goodonyou.eco/brand/senso': ['shoes'], 'https://directory.goodonyou.eco/brand/tila-march': ['shoes', 'bags'], 'https://directory.goodonyou.eco/brand/schutz': ['shoes'], 'https://directory.goodonyou.eco/brand/kurt-geiger': ['shoes', 'bags'], 'https://directory.goodonyou.eco/brand/mara-and-mine': ['shoes'], 'https://directory.goodonyou.eco/brand/suicoke': ['shoes'], 'https://directory.goodonyou.eco/brand/studio-amelia': ['shoes', 'bags'], 'https://directory.goodonyou.eco/brand/sophia-webster': ['shoes', 'bags'], 'https://directory.goodonyou.eco/brand/laurence-dacade': ['shoes'], 'https://directory.goodonyou.eco/brand/dorateymur': ['shoes', 'bags'], 'https://directory.goodonyou.eco/brand/castaner': ['shoes', 'bags'], 'https://directory.goodonyou.eco/brand/mou': ['shoes'], 'https://directory.goodonyou.eco/brand/unisa': ['shoes', 'bags'], 'https://directory.goodonyou.eco/brand/fitflop': ['shoes'], 'https://directory.goodonyou.eco/brand/mellow-yellow': ['shoes'], 'https://directory.goodonyou.eco/brand/aquazzura': ['shoes'], 'https://directory.goodonyou.eco/brand/jonak': ['shoes'], 'https://directory.goodonyou.eco/brand/dune-london': ['shoes'], 'https://directory.goodonyou.eco/brand/cambio': ['shoes', 'bags'], 'https://directory.goodonyou.eco/brand/havaianas': ['shoes'], 'https://directory.goodonyou.eco/brand/crocs': ['shoes'], 'https://directory.goodonyou.eco/brand/max-mara': ['shoes', 'bags'], 'https://directory.goodonyou.eco/brand/been-london': ['bags'], 'https://directory.goodonyou.eco/brand/thela': ['bags'], 'https://directory.goodonyou.eco/brand/elvis-and-kresse': ['bags'], 'https://directory.goodonyou.eco/brand/lefrik': ['bags'], 'https://directory.goodonyou.eco/brand/groundtruth': ['bags'], 'https://directory.goodonyou.eco/brand/rice-and-carry': ['bags'], 'https://directory.goodonyou.eco/brand/svala': ['bags'], 'https://directory.goodonyou.eco/brand/a-c': ['bags'], 'https://directory.goodonyou.eco/brand/mashu': ['bags'], 'https://directory.goodonyou.eco/brand/o-my-bag': ['bags'], 'https://directory.goodonyou.eco/brand/chic-made-consciously': ['bags'], 'https://directory.goodonyou.eco/brand/hyer-goods': ['bags'], 'https://directory.goodonyou.eco/brand/purnama': ['bags'], 'https://directory.goodonyou.eco/brand/labante': ['bags'], 'https://directory.goodonyou.eco/brand/got-bag': ['bags'], 'https://directory.goodonyou.eco/brand/gunas': ['bags'], 'https://directory.goodonyou.eco/brand/sandqvist': ['bags'], 'https://directory.goodonyou.eco/brand/carmina-campus': ['bags'], 'https://directory.goodonyou.eco/brand/graine': ['bags'], 'https://directory.goodonyou.eco/brand/g-viteri': ['bags'], 'https://directory.goodonyou.eco/brand/martina-spetlova': ['bags'], 'https://directory.goodonyou.eco/brand/the-sway': ['bags'], 'https://directory.goodonyou.eco/brand/laura-lombardi': ['bags'], 'https://directory.goodonyou.eco/brand/a-a-k-s': ['bags'], 'https://directory.goodonyou.eco/brand/bolso': ['bags'], 'https://directory.goodonyou.eco/brand/troubadour': ['bags'], 'https://directory.goodonyou.eco/brand/qwstion': ['bags'], 'https://directory.goodonyou.eco/brand/tree-fairfax': ['bags'], 'https://directory.goodonyou.eco/brand/lost-property-of-london': ['bags'], 'https://directory.goodonyou.eco/brand/pelli': ['bags'], 'https://directory.goodonyou.eco/brand/bakari': ['bags'], 'https://directory.goodonyou.eco/brand/vanina': ['bags'], 'https://directory.goodonyou.eco/brand/catrinka': ['bags'], 'https://directory.goodonyou.eco/brand/baggu': ['bags'], 'https://directory.goodonyou.eco/brand/sans-beast': ['bags'], 'https://directory.goodonyou.eco/brand/anna-walker': ['bags'], 'https://directory.goodonyou.eco/brand/nannacay': ['bags'], 'https://directory.goodonyou.eco/brand/demellier': ['bags'], 'https://directory.goodonyou.eco/brand/corto-moltedo': ['bags'], 'https://directory.goodonyou.eco/brand/yiy': ['bags'], 'https://directory.goodonyou.eco/brand/lautem': ['bags'], 'https://directory.goodonyou.eco/brand/mimco': ['bags'], 'https://directory.goodonyou.eco/brand/smythson': ['bags'], 'https://directory.goodonyou.eco/brand/bask-in-africa': ['bags'], 'https://directory.goodonyou.eco/brand/deuter': ['bags'], 'https://directory.goodonyou.eco/brand/hathorway': ['bags'], 'https://directory.goodonyou.eco/brand/passavant-and-lee': ['bags'], 'https://directory.goodonyou.eco/brand/henri-bendel': ['bags'], 'https://directory.goodonyou.eco/brand/dakine': ['bags'], 'https://directory.goodonyou.eco/brand/venczel': ['bags'], 'https://directory.goodonyou.eco/brand/otis-batterbee': ['bags'], 'https://directory.goodonyou.eco/brand/judith-leiber': ['bags'], 'https://directory.goodonyou.eco/brand/muun': ['bags'], 'https://directory.goodonyou.eco/brand/m2malletier': ['bags'], 'https://directory.goodonyou.eco/brand/cabas': ['bags'], 'https://directory.goodonyou.eco/brand/serpui': ['bags'], 'https://directory.goodonyou.eco/brand/hand-picked': ['bags'], 'https://directory.goodonyou.eco/brand/giani-bernini': ['bags'], 'https://directory.goodonyou.eco/brand/helen-kaminski': ['bags'], 'https://directory.goodonyou.eco/brand/wicker-wings': ['bags'], 'https://directory.goodonyou.eco/brand/bag-envy': ['bags'], 'https://directory.goodonyou.eco/brand/pubumesu': ['bags'], 'https://directory.goodonyou.eco/brand/khirma': ['bags'], 'https://directory.goodonyou.eco/brand/lancel': ['bags'], 'https://directory.goodonyou.eco/brand/vana': ['bags'], 'https://directory.goodonyou.eco/brand/moynat': ['bags'], 'https://directory.goodonyou.eco/brand/rimowa': ['bags'], 'https://directory.goodonyou.eco/brand/waiwai-rio': ['bags'], 'https://directory.goodonyou.eco/brand/okapi': ['bags'], 'https://directory.goodonyou.eco/brand/ally-capellino': ['bags'], 'https://directory.goodonyou.eco/brand/anndra-neen': ['bags'], 'https://directory.goodonyou.eco/brand/brighton': ['bags'], 'https://directory.goodonyou.eco/brand/matri': ['bags'], 'https://directory.goodonyou.eco/brand/colette': ['bags'], 'https://directory.goodonyou.eco/brand/furla': ['bags'], 'https://directory.goodonyou.eco/brand/louis-vuitton': ['bags'], 'https://directory.goodonyou.eco/brand/nat-and-nin': ['bags'], 'https://directory.goodonyou.eco/brand/michael-kors': ['bags'], 'https://directory.goodonyou.eco/brand/hedgren': ['bags'], 'https://directory.goodonyou.eco/brand/chumbak': ['bags'], 'https://directory.goodonyou.eco/brand/isla': ['bags'], 'https://directory.goodonyou.eco/brand/perrin-paris': ['bags'], 'https://directory.goodonyou.eco/brand/bao-bao-issey-miyake': ['bags'], 'https://directory.goodonyou.eco/brand/anya-hindmarch': ['bags'], 'https://directory.goodonyou.eco/brand/comutor': ['bags'], 'https://directory.goodonyou.eco/brand/london-fog': ['bags']}\n"
     ]
    }
   ],
   "source": [
    "scrape_brand_names()\n",
    "print(STORE_CATEGORY_MAP)"
   ]
  },
  {
   "cell_type": "code",
   "execution_count": 183,
   "metadata": {},
   "outputs": [],
   "source": [
    "import csv\n",
    "with open('brand_list.csv', mode='w') as brand_file:\n",
    "    fieldnames = ['brand_name', 'brand_url', 'types']\n",
    "\n",
    "    brand_writer = csv.writer(brand_file, delimiter=',', quotechar='\"', quoting=csv.QUOTE_MINIMAL)\n",
    "\n",
    "    for (brand_url, types) in STORE_CATEGORY_MAP.items():\n",
    "        brand = brand_url.split('/')[-1]\n",
    "        empty = \", \"\n",
    "        types_string = empty.join(types)\n",
    "        brand_writer.writerow([brand, brand_url, types_string])\n"
   ]
  },
  {
   "cell_type": "code",
   "execution_count": 184,
   "metadata": {},
   "outputs": [
    {
     "output_type": "stream",
     "name": "stdout",
     "text": [
      "2181\n"
     ]
    }
   ],
   "source": [
    "print(len(STORE_CATEGORY_MAP.keys()))"
   ]
  },
  {
   "cell_type": "code",
   "execution_count": null,
   "metadata": {},
   "outputs": [],
   "source": []
  }
 ]
}