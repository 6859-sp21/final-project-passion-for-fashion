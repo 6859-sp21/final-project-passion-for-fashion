{
 "metadata": {
  "language_info": {
   "codemirror_mode": {
    "name": "ipython",
    "version": 3
   },
   "file_extension": ".py",
   "mimetype": "text/x-python",
   "name": "python",
   "nbconvert_exporter": "python",
   "pygments_lexer": "ipython3",
   "version": "3.7.4"
  },
  "orig_nbformat": 2,
  "kernelspec": {
   "name": "python374jvsc74a57bd0d46759998a75493532841deeff85cbd3720d9a7b327f2d9b36703a2010637251",
   "display_name": "Python 3.7.4 64-bit ('base': conda)"
  }
 },
 "nbformat": 4,
 "nbformat_minor": 2,
 "cells": [
  {
   "cell_type": "code",
   "execution_count": 11,
   "metadata": {},
   "outputs": [],
   "source": [
    "import requests\n",
    "from bs4 import BeautifulSoup\n",
    "import pandas"
   ]
  },
  {
   "cell_type": "code",
   "execution_count": 12,
   "metadata": {},
   "outputs": [],
   "source": [
    "# constants here\n",
    "CATEGORIES = ['activewear', 'tops', 'bottoms', 'denim', 'dresses', 'knitwear', 'outerwear', 'suits', 'basics', 'sleepwear', 'swimwear', 'maternity', 'plus-size', 'shoes', 'bags', 'accessories']\n",
    "\n",
    "CATEGORY_ROOT_URL = 'https://directory.goodonyou.eco/categories/'\n",
    "\n",
    "BRAND_ROOT_URL = 'https://directory.goodonyou.eco/brand/'"
   ]
  },
  {
   "cell_type": "code",
   "execution_count": 13,
   "metadata": {},
   "outputs": [],
   "source": [
    "# if a store has already been scraped, just add the category to this map and do not \"rescrape\" to save time\n",
    "# we assume there is only one unique page per brand\n",
    "\n",
    "STORE_CATEGORY_MAP = {}"
   ]
  },
  {
   "cell_type": "code",
   "execution_count": 14,
   "metadata": {},
   "outputs": [],
   "source": [
    "# brand page specifics\n",
    "# maps field name to ['div type', 'class name'], #example text\n",
    "BRAND_SCRAPING_MAP = {\n",
    "    'name': ['h1', 'sc-kjoXOD hxRXn StyledHeading-sc-1rdh4aw-0 iadRcX'], # 'Article 22'\n",
    "    'rating': ['span', 'StyledText-sc-1sadyjn-0 bBUTWf'], # 'Rated: Good'\n",
    "    'price': ['span', 'StyledText-sc-1sadyjn-0 bBUTWf'], # 'Price : $$'\n",
    "    'location': ['span', 'StyledText-sc-1sadyjn-0 bBUTWf'], # 'Location: Australia'\n",
    "    'planet': ['span', 'StyledText-sc-1sadyjn-0 bVvIwM'], # '5 out of 5'\n",
    "    'people': ['span', 'StyledText-sc-1sadyjn-0 bVvIwM'], # '4 out of 5', 'Not applicable'\n",
    "    'animals': ['span', 'StyledText-sc-1sadyjn-0 bVvIwM'], # same as above\n",
    "    'description': ['div', 'sc-kgAjT kqcGSN'], # all text comes in chunks of <p>'s\n",
    "}"
   ]
  },
  {
   "cell_type": "code",
   "execution_count": null,
   "metadata": {},
   "outputs": [],
   "source": []
  }
 ]
}